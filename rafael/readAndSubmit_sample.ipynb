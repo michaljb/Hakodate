{
 "cells": [
  {
   "cell_type": "code",
   "execution_count": null,
   "metadata": {},
   "outputs": [],
   "source": [
    "import numpy as np\n",
    "import pandas as pd\n",
    "%matplotlib inline\n",
    "import matplotlib.pyplot as plt\n",
    "\n",
    "from sklearn.model_selection import train_test_split,KFold\n",
    "from sklearn.ensemble import ExtraTreesClassifier,RandomForestClassifier,GradientBoostingClassifier\n",
    "from sklearn.metrics import classification_report, log_loss\n",
    "from sklearn.metrics import confusion_matrix\n",
    "\n",
    "import random\n",
    "\n",
    "random.seed(12345)\n",
    "\n",
    "pd.options.display.max_columns = 100"
   ]
  },
  {
   "cell_type": "code",
   "execution_count": 66,
   "metadata": {
    "collapsed": true
   },
   "outputs": [],
   "source": [
    "path = './'\n",
    "name = ''\n",
    "out_name = path + name + 'submission_py.csv'"
   ]
  },
  {
   "cell_type": "code",
   "execution_count": 67,
   "metadata": {
    "collapsed": true
   },
   "outputs": [],
   "source": [
    "\n",
    "import itertools\n",
    "\n",
    "def plot_confusion_matrix(cm, classes,\n",
    "                          normalize=False,\n",
    "                          title='Confusion matrix',\n",
    "                          doprint=True,\n",
    "                          cmap=plt.cm.Blues):\n",
    "    \"\"\"\n",
    "    This function prints and plots the confusion matrix.\n",
    "    Normalization can be applied by setting `normalize=True`.\n",
    "    \"\"\"\n",
    "    if normalize:\n",
    "        cm = cm.astype('float') / cm.sum(axis=1)[:, np.newaxis]\n",
    "        print(\"Normalized confusion matrix\")\n",
    "    else:\n",
    "        print('Confusion matrix, without normalization')\n",
    "\n",
    "    if doprint:\n",
    "        print(cm)\n",
    "\n",
    "    plt.imshow(cm, interpolation='nearest', cmap=cmap)\n",
    "    plt.title(title)\n",
    "    plt.colorbar()\n",
    "    tick_marks = np.arange(len(classes))\n",
    "    plt.xticks(tick_marks, classes, rotation=45)\n",
    "    plt.yticks(tick_marks, classes)\n",
    "\n",
    "    fmt = '.2f' if normalize else 'd'\n",
    "    thresh = cm.max() / 2.\n",
    "    if doprint:\n",
    "        for i, j in itertools.product(range(cm.shape[0]), range(cm.shape[1])):\n",
    "            plt.text(j, i, format(cm[i, j], fmt),\n",
    "                     horizontalalignment=\"center\",\n",
    "                     color=\"white\" if cm[i, j] > thresh else \"black\")\n",
    "\n",
    "    plt.tight_layout()\n",
    "    plt.ylabel('True label')\n",
    "    plt.xlabel('Predicted label')"
   ]
  },
  {
   "cell_type": "code",
   "execution_count": 68,
   "metadata": {},
   "outputs": [],
   "source": [
    "# read data\n",
    "\n",
    "train_data = pd.read_csv(path + name + 'train.csv')\n",
    "test_data = pd.read_csv(path + name + 'test.csv')\n"
   ]
  },
  {
   "cell_type": "code",
   "execution_count": 69,
   "metadata": {},
   "outputs": [
    {
     "name": "stdout",
     "output_type": "stream",
     "text": [
      "(28746, 213)\n",
      "(271251, 211)\n"
     ]
    }
   ],
   "source": [
    "print(train_data.shape)\n",
    "print(test_data.shape)"
   ]
  },
  {
   "cell_type": "code",
   "execution_count": 70,
   "metadata": {},
   "outputs": [
    {
     "name": "stdout",
     "output_type": "stream",
     "text": [
      "(28746, 70)\n",
      "(271251, 70)\n",
      "(28746,)\n"
     ]
    }
   ],
   "source": [
    "# get first 5 seconds\n",
    "qq = list(range(1,71))\n",
    "X = train_data.iloc[:,qq].as_matrix()\n",
    "Xt = test_data.iloc[:,qq].as_matrix()\n",
    "y = train_data.iloc[:,-1].as_matrix()\n",
    "\n",
    "print(X.shape)\n",
    "print(Xt.shape)\n",
    "print(y.shape)"
   ]
  },
  {
   "cell_type": "markdown",
   "metadata": {},
   "source": [
    "# Test XGBoost on first 5 seconds"
   ]
  },
  {
   "cell_type": "code",
   "execution_count": 71,
   "metadata": {},
   "outputs": [
    {
     "name": "stdout",
     "output_type": "stream",
     "text": [
      "(27308, 70)\n",
      "(1438, 70)\n"
     ]
    }
   ],
   "source": [
    "X_train, X_val, y_train, y_val = train_test_split(X, y, test_size=0.05)\n",
    "print(X_train.shape)\n",
    "print(X_val.shape)\n"
   ]
  },
  {
   "cell_type": "code",
   "execution_count": 72,
   "metadata": {},
   "outputs": [
    {
     "name": "stdout",
     "output_type": "stream",
     "text": [
      "             precision    recall  f1-score   support\n",
      "\n",
      "          1       0.89      0.79      0.84        91\n",
      "          2       0.78      0.89      0.83        74\n",
      "          3       0.31      0.59      0.41        82\n",
      "          4       0.43      0.39      0.41        59\n",
      "          5       0.38      0.30      0.33        88\n",
      "          6       0.32      0.17      0.22        75\n",
      "          7       0.23      0.40      0.29        73\n",
      "          8       0.34      0.41      0.37        88\n",
      "          9       0.23      0.14      0.18        77\n",
      "         10       0.32      0.28      0.30        54\n",
      "         11       0.41      0.15      0.22        46\n",
      "         12       0.30      0.16      0.21        43\n",
      "         13       0.42      0.70      0.52        61\n",
      "         14       0.29      0.44      0.35        54\n",
      "         15       0.23      0.16      0.19        50\n",
      "         16       0.11      0.05      0.07        38\n",
      "         17       0.33      0.33      0.33        42\n",
      "         18       0.16      0.13      0.14        38\n",
      "         19       0.24      0.16      0.19        38\n",
      "         20       0.30      0.31      0.30        45\n",
      "         21       0.25      0.21      0.23        39\n",
      "         22       0.18      0.24      0.20        38\n",
      "         23       0.37      0.21      0.27        47\n",
      "         24       0.22      0.26      0.24        58\n",
      "         25       0.38      0.28      0.32        40\n",
      "\n",
      "avg / total       0.36      0.36      0.35      1438\n",
      "\n",
      "log_loss: 1.69511740974\n",
      "CPU times: user 1min 59s, sys: 28 ms, total: 2min\n",
      "Wall time: 30.2 s\n"
     ]
    }
   ],
   "source": [
    "%%time\n",
    "from xgboost import XGBClassifier\n",
    "gbc = XGBClassifier(objective='multi:softprob',\n",
    "                    learning_rate=0.2,\n",
    "                    subsample=0.7,\n",
    "                    colsample_bytree=0.9,\n",
    "                    colsample_bylevel=0.7,\n",
    "                    max_depth=5,\n",
    "                    nthread=4,\n",
    "                    n_estimators=50,\n",
    "                    seed=1234)\n",
    "\n",
    "gbc.fit(X_train,y_train)\n",
    "pred = gbc.predict(X_val)\n",
    "print(classification_report(y_pred=pred,y_true=y_val))\n",
    "pred_proba = gbc.predict_proba(X_val)\n",
    "print('log_loss: {}'.format(log_loss(y_pred=pred_proba,y_true=y_val)))"
   ]
  },
  {
   "cell_type": "code",
   "execution_count": 73,
   "metadata": {},
   "outputs": [
    {
     "name": "stdout",
     "output_type": "stream",
     "text": [
      "Normalized confusion matrix\n"
     ]
    },
    {
     "data": {
      "image/png": "[encoded data removed]",
      "text/plain": [
       "<matplotlib.figure.Figure at 0x7f97d56a2850>"
      ]
     },
     "metadata": {},
     "output_type": "display_data"
    }
   ],
   "source": [
    "cnf_matrix = confusion_matrix(y_val, pred)\n",
    "plt.figure()\n",
    "classes = range(0,25)\n",
    "plot_confusion_matrix(cnf_matrix, classes, normalize=True, doprint=False, title='Normalized confusion matrix')"
   ]
  },
  {
   "cell_type": "code",
   "execution_count": 74,
   "metadata": {},
   "outputs": [],
   "source": [
    "#submit result\n",
    "\n",
    "pred = gbc.predict(Xt)\n",
    "pred = pred.astype(int)\n",
    "df = pd.DataFrame(pred)\n",
    "df.to_csv(out_name, header=False)"
   ]
  },
  {
   "cell_type": "code",
   "execution_count": 1,
   "metadata": {},
   "outputs": [],
   "source": [
    "#compress result file\n",
    "import gzip\n",
    "\n",
    "in_data = open(out_name, \"rb\").read()\n",
    "out_gz = out_name+\".gz\"\n",
    "gzf = gzip.open(out_gz, \"wb\")\n",
    "gzf.write(in_data)\n",
    "gzf.close()"
   ]
  },
  {
   "cell_type": "code",
   "execution_count": null,
   "metadata": {},
   "outputs": [],
   "source": []
  }
 ],
 "metadata": {
  "kernelspec": {
   "display_name": "Python 2",
   "language": "python",
   "name": "python2"
  },
  "language_info": {
   "codemirror_mode": {
    "name": "ipython",
    "version": 2
   },
   "file_extension": ".py",
   "mimetype": "text/x-python",
   "name": "python",
   "nbconvert_exporter": "python",
   "pygments_lexer": "ipython2",
   "version": "2.7.13"
  }
 },
 "nbformat": 4,
 "nbformat_minor": 1
}
