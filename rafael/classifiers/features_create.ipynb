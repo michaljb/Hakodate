{
 "cells": [
  {
   "cell_type": "code",
   "execution_count": 4,
   "metadata": {
    "collapsed": true
   },
   "outputs": [],
   "source": [
    "\n",
    "import numpy as np\n",
    "import pandas as pd\n",
    "import os\n",
    "import sys\n",
    "root =  \"/home/bugabuga/hack/git\"\n",
    "sys.path.insert(0, root)\n",
    "\n",
    "# fix random seed for reproducibility\n",
    "np.random.seed(7)\n",
    "\n",
    "import sys\n",
    "root =  \"/home/bugabuga/hack/git\"\n",
    "sys.path.insert(0, root)\n"
   ]
  },
  {
   "cell_type": "code",
   "execution_count": 14,
   "metadata": {
    "collapsed": true
   },
   "outputs": [],
   "source": [
    "\n",
    "def get_3d_sq_vel(x):\n",
    "    square_speed = np.array(x.velX) ** 2 + np.array(x.velY) ** 2 + np.array(x.velZ) ** 2\n",
    "    return square_speed.tolist()\n",
    "\n",
    "\n",
    "def get_3d_vel(x):\n",
    "    return (np.array(get_3d_sq_vel(x)) ** 0.5).tolist()\n",
    "\n",
    "\n",
    "def total_energy_per_unit_mass(x):\n",
    "    return (np.array(get_3d_sq_vel(x)) * 0.5 + np.array(x.posZ)).tolist()\n",
    "\n",
    "\n",
    "def mypolyfit_y(y, deg):\n",
    "    y = np.array(y)\n",
    "    x = np.arange(0, y.shape[0]) / 2\n",
    "    a = np.polyfit(x, y, deg)\n",
    "    yy = 0\n",
    "    for j in range(len(a)):\n",
    "        yy += a[-j - 1] * x ** j\n",
    "    return a, yy\n",
    "\n",
    "\n",
    "def smooth_velocity(x, deg):\n",
    "    a_x, vel_x = mypolyfit_y(x.velX, deg)\n",
    "    a_y, vel_y = mypolyfit_y(x.velY, deg)\n",
    "    a_z, vel_z = mypolyfit_y(x.velZ, deg)\n",
    "    return (a_x, a_y, a_z), (vel_x, vel_y, vel_z)\n",
    "\n",
    "\n",
    "def get_smoothed_columns(x):\n",
    "    (a_x, a_y, a_z), (vel_x, vel_y, vel_z) = smooth_velocity(x, 1)\n",
    "    smoothed_velocity_sq = vel_x ** 2 + vel_y ** 2 + vel_z ** 2\n",
    "    smoothed_velocity = smoothed_velocity_sq ** 0.5\n",
    "    energy = smoothed_velocity_sq * 0.5 + np.array(x.posZ)\n",
    "\n",
    "    return pd.Series([a_x[0], a_y[0], a_z[0], smoothed_velocity.tolist(), energy.tolist(),\n",
    "                      vel_x, vel_y, vel_z])\n",
    "\n",
    "\n",
    "def get_min_max_avg(x, columns_names):\n",
    "    l = []\n",
    "    for column_name in columns_names:\n",
    "        data = x[column_name]\n",
    "        l += [min(data), max(data), np.mean(data)]\n",
    "    return pd.Series(l)\n",
    "\n",
    "\n",
    "def create_features(df):\n",
    "    df_smoothed = pd.DataFrame()\n",
    "    df_smoothed[[\"ax\", \"ay\", \"az\", \"3d_vel\", \"tot_e\", \"smooth_vel_x\", \"smooth_vel_y\", \"smooth_vel_z\"]] = df.apply(get_smoothed_columns, axis=1)\n",
    "    df_smoothed[[\"posZ\", \"class\"]] = df[[\"posZ\", \"class\"]]\n",
    "\n",
    "    min_max_avg_features = df_smoothed.apply(lambda x: get_min_max_avg(x, [\"3d_vel\", \"tot_e\", \"smooth_vel_z\", \"posZ\"]),\n",
    "                                             axis=1)\n",
    "    return pd.concat([min_max_avg_features, df_smoothed[['ax', 'ay', 'az', 'class'],\n",
    "    ]], axis=1)\n",
    "\n",
    "\n",
    "\n",
    "\n"
   ]
  },
  {
   "cell_type": "code",
   "execution_count": 23,
   "metadata": {},
   "outputs": [
    {
     "name": "stdout",
     "output_type": "stream",
     "text": [
      "(17091, 7)\n",
      "(200, 7)\n"
     ]
    }
   ],
   "source": [
    "df = pd.read_pickle(os.path.expanduser(\"~/hack/data/decreasing_data.p\"))\n",
    "df.head()\n",
    "ts = 15\n",
    "print(df.shape)\n",
    "df_dropped = df[df.apply(lambda x: len(x[\"posX\"])>ts, axis=1)].iloc[:200,:]\n",
    "print(df_dropped.shape)"
   ]
  },
  {
   "cell_type": "code",
   "execution_count": 20,
   "metadata": {},
   "outputs": [
    {
     "ename": "KeyboardInterrupt",
     "evalue": "",
     "output_type": "error",
     "traceback": [
      "\u001b[0;31m---------------------------------------------------------------------------\u001b[0m",
      "\u001b[0;31mKeyboardInterrupt\u001b[0m                         Traceback (most recent call last)",
      "\u001b[0;32m<ipython-input-20-d2936bcc3ed3>\u001b[0m in \u001b[0;36m<module>\u001b[0;34m()\u001b[0m\n\u001b[0;32m----> 1\u001b[0;31m \u001b[0mdf_features\u001b[0m \u001b[0;34m=\u001b[0m \u001b[0mcreate_features\u001b[0m\u001b[0;34m(\u001b[0m\u001b[0mdf_dropped\u001b[0m\u001b[0;34m)\u001b[0m\u001b[0;34m.\u001b[0m\u001b[0miloc\u001b[0m\u001b[0;34m[\u001b[0m\u001b[0;34m:\u001b[0m\u001b[0;34m,\u001b[0m\u001b[0;36m200\u001b[0m\u001b[0;34m]\u001b[0m\u001b[0;34m\u001b[0m\u001b[0m\n\u001b[0m",
      "\u001b[0;32m<ipython-input-14-4068bd9a5d9e>\u001b[0m in \u001b[0;36mcreate_features\u001b[0;34m(df)\u001b[0m\n\u001b[1;32m     54\u001b[0m \u001b[0;34m\u001b[0m\u001b[0m\n\u001b[1;32m     55\u001b[0m     min_max_avg_features = df_smoothed.apply(lambda x: get_min_max_avg(x, [\"3d_vel\", \"tot_e\", \"smooth_vel_z\", \"posZ\"]),\n\u001b[0;32m---> 56\u001b[0;31m                                              axis=1)\n\u001b[0m\u001b[1;32m     57\u001b[0m     return pd.concat([min_max_avg_features, df_smoothed[['ax', 'ay', 'az', 'class'],\n\u001b[1;32m     58\u001b[0m     ]], axis=1)\n",
      "\u001b[0;32m~/anaconda3/lib/python3.5/site-packages/pandas/core/frame.py\u001b[0m in \u001b[0;36mapply\u001b[0;34m(self, func, axis, broadcast, raw, reduce, args, **kwds)\u001b[0m\n\u001b[1;32m   4260\u001b[0m                         \u001b[0mf\u001b[0m\u001b[0;34m,\u001b[0m \u001b[0maxis\u001b[0m\u001b[0;34m,\u001b[0m\u001b[0;34m\u001b[0m\u001b[0m\n\u001b[1;32m   4261\u001b[0m                         \u001b[0mreduce\u001b[0m\u001b[0;34m=\u001b[0m\u001b[0mreduce\u001b[0m\u001b[0;34m,\u001b[0m\u001b[0;34m\u001b[0m\u001b[0m\n\u001b[0;32m-> 4262\u001b[0;31m                         ignore_failures=ignore_failures)\n\u001b[0m\u001b[1;32m   4263\u001b[0m             \u001b[0;32melse\u001b[0m\u001b[0;34m:\u001b[0m\u001b[0;34m\u001b[0m\u001b[0m\n\u001b[1;32m   4264\u001b[0m                 \u001b[0;32mreturn\u001b[0m \u001b[0mself\u001b[0m\u001b[0;34m.\u001b[0m\u001b[0m_apply_broadcast\u001b[0m\u001b[0;34m(\u001b[0m\u001b[0mf\u001b[0m\u001b[0;34m,\u001b[0m \u001b[0maxis\u001b[0m\u001b[0;34m)\u001b[0m\u001b[0;34m\u001b[0m\u001b[0m\n",
      "\u001b[0;32m~/anaconda3/lib/python3.5/site-packages/pandas/core/frame.py\u001b[0m in \u001b[0;36m_apply_standard\u001b[0;34m(self, func, axis, ignore_failures, reduce)\u001b[0m\n\u001b[1;32m   4355\u001b[0m         \u001b[0;32melse\u001b[0m\u001b[0;34m:\u001b[0m\u001b[0;34m\u001b[0m\u001b[0m\n\u001b[1;32m   4356\u001b[0m             \u001b[0;32mtry\u001b[0m\u001b[0;34m:\u001b[0m\u001b[0;34m\u001b[0m\u001b[0m\n\u001b[0;32m-> 4357\u001b[0;31m                 \u001b[0;32mfor\u001b[0m \u001b[0mi\u001b[0m\u001b[0;34m,\u001b[0m \u001b[0mv\u001b[0m \u001b[0;32min\u001b[0m \u001b[0menumerate\u001b[0m\u001b[0;34m(\u001b[0m\u001b[0mseries_gen\u001b[0m\u001b[0;34m)\u001b[0m\u001b[0;34m:\u001b[0m\u001b[0;34m\u001b[0m\u001b[0m\n\u001b[0m\u001b[1;32m   4358\u001b[0m                     \u001b[0mresults\u001b[0m\u001b[0;34m[\u001b[0m\u001b[0mi\u001b[0m\u001b[0;34m]\u001b[0m \u001b[0;34m=\u001b[0m \u001b[0mfunc\u001b[0m\u001b[0;34m(\u001b[0m\u001b[0mv\u001b[0m\u001b[0;34m)\u001b[0m\u001b[0;34m\u001b[0m\u001b[0m\n\u001b[1;32m   4359\u001b[0m                     \u001b[0mkeys\u001b[0m\u001b[0;34m.\u001b[0m\u001b[0mappend\u001b[0m\u001b[0;34m(\u001b[0m\u001b[0mv\u001b[0m\u001b[0;34m.\u001b[0m\u001b[0mname\u001b[0m\u001b[0;34m)\u001b[0m\u001b[0;34m\u001b[0m\u001b[0m\n",
      "\u001b[0;32m~/anaconda3/lib/python3.5/site-packages/pandas/core/frame.py\u001b[0m in \u001b[0;36m<genexpr>\u001b[0;34m(.0)\u001b[0m\n\u001b[1;32m   4333\u001b[0m             series_gen = (Series.from_array(arr, index=res_columns, name=name,\n\u001b[1;32m   4334\u001b[0m                                             dtype=dtype)\n\u001b[0;32m-> 4335\u001b[0;31m                           for i, (arr, name) in enumerate(zip(values,\n\u001b[0m\u001b[1;32m   4336\u001b[0m                                                               res_index)))\n\u001b[1;32m   4337\u001b[0m         \u001b[0;32melse\u001b[0m\u001b[0;34m:\u001b[0m  \u001b[0;31m# pragma : no cover\u001b[0m\u001b[0;34m\u001b[0m\u001b[0m\n",
      "\u001b[0;32m~/anaconda3/lib/python3.5/site-packages/pandas/core/series.py\u001b[0m in \u001b[0;36mfrom_array\u001b[0;34m(cls, arr, index, name, dtype, copy, fastpath)\u001b[0m\n\u001b[1;32m    264\u001b[0m \u001b[0;34m\u001b[0m\u001b[0m\n\u001b[1;32m    265\u001b[0m         return cls(arr, index=index, name=name, dtype=dtype, copy=copy,\n\u001b[0;32m--> 266\u001b[0;31m                    fastpath=fastpath)\n\u001b[0m\u001b[1;32m    267\u001b[0m \u001b[0;34m\u001b[0m\u001b[0m\n\u001b[1;32m    268\u001b[0m     \u001b[0;34m@\u001b[0m\u001b[0mproperty\u001b[0m\u001b[0;34m\u001b[0m\u001b[0m\n",
      "\u001b[0;32m~/anaconda3/lib/python3.5/site-packages/pandas/core/series.py\u001b[0m in \u001b[0;36m__init__\u001b[0;34m(self, data, index, dtype, name, copy, fastpath)\u001b[0m\n\u001b[1;32m    246\u001b[0m             \u001b[0;32melse\u001b[0m\u001b[0;34m:\u001b[0m\u001b[0;34m\u001b[0m\u001b[0m\n\u001b[1;32m    247\u001b[0m                 data = _sanitize_array(data, index, dtype, copy,\n\u001b[0;32m--> 248\u001b[0;31m                                        raise_cast_failure=True)\n\u001b[0m\u001b[1;32m    249\u001b[0m \u001b[0;34m\u001b[0m\u001b[0m\n\u001b[1;32m    250\u001b[0m                 \u001b[0mdata\u001b[0m \u001b[0;34m=\u001b[0m \u001b[0mSingleBlockManager\u001b[0m\u001b[0;34m(\u001b[0m\u001b[0mdata\u001b[0m\u001b[0;34m,\u001b[0m \u001b[0mindex\u001b[0m\u001b[0;34m,\u001b[0m \u001b[0mfastpath\u001b[0m\u001b[0;34m=\u001b[0m\u001b[0;32mTrue\u001b[0m\u001b[0;34m)\u001b[0m\u001b[0;34m\u001b[0m\u001b[0m\n",
      "\u001b[0;32m~/anaconda3/lib/python3.5/site-packages/pandas/core/series.py\u001b[0m in \u001b[0;36m_sanitize_array\u001b[0;34m(data, index, dtype, copy, raise_cast_failure)\u001b[0m\n\u001b[1;32m   2980\u001b[0m         \u001b[0msubarr\u001b[0m \u001b[0;34m=\u001b[0m \u001b[0m_try_cast\u001b[0m\u001b[0;34m(\u001b[0m\u001b[0mdata\u001b[0m\u001b[0;34m,\u001b[0m \u001b[0;32mFalse\u001b[0m\u001b[0;34m)\u001b[0m\u001b[0;34m\u001b[0m\u001b[0m\n\u001b[1;32m   2981\u001b[0m \u001b[0;34m\u001b[0m\u001b[0m\n\u001b[0;32m-> 2982\u001b[0;31m     \u001b[0;32mdef\u001b[0m \u001b[0mcreate_from_value\u001b[0m\u001b[0;34m(\u001b[0m\u001b[0mvalue\u001b[0m\u001b[0;34m,\u001b[0m \u001b[0mindex\u001b[0m\u001b[0;34m,\u001b[0m \u001b[0mdtype\u001b[0m\u001b[0;34m)\u001b[0m\u001b[0;34m:\u001b[0m\u001b[0;34m\u001b[0m\u001b[0m\n\u001b[0m\u001b[1;32m   2983\u001b[0m         \u001b[0;31m# return a new empty value suitable for the dtype\u001b[0m\u001b[0;34m\u001b[0m\u001b[0;34m\u001b[0m\u001b[0m\n\u001b[1;32m   2984\u001b[0m \u001b[0;34m\u001b[0m\u001b[0m\n",
      "\u001b[0;31mKeyboardInterrupt\u001b[0m: "
     ]
    }
   ],
   "source": [
    "df_features = create_features(df_dropped)"
   ]
  },
  {
   "cell_type": "code",
   "execution_count": 24,
   "metadata": {},
   "outputs": [],
   "source": [
    "def get_polyfit_coefs(y, deg=4):\n",
    "    coefs, _ = mypolyfit_y(y, deg)\n",
    "    return coefs.tolist()\n",
    "\n",
    "def get_coef_features(x, columns_names):\n",
    "    l = []\n",
    "    for column in columns_names:\n",
    "        coefs = get_polyfit_coefs(x[column])\n",
    "        l += coefs\n",
    "    return pd.Series(l)\n"
   ]
  },
  {
   "cell_type": "code",
   "execution_count": 44,
   "metadata": {},
   "outputs": [],
   "source": [
    "df_dropped2 = pd.concat([df_dropped.apply(get_3d_vel, axis=1),\n",
    "df_dropped.apply(get_3d_sq_vel, axis=1),\n",
    "df_dropped.apply(total_energy_per_unit_mass, axis=1) ], axis=1)\n",
    "df_dropped2.columns = [\"3dvel\", \"3dsq_vel\", \"e\"]"
   ]
  },
  {
   "cell_type": "code",
   "execution_count": 45,
   "metadata": {},
   "outputs": [
    {
     "data": {
      "text/plain": [
       "(200, 3)"
      ]
     },
     "execution_count": 45,
     "metadata": {},
     "output_type": "execute_result"
    }
   ],
   "source": [
    "df_dropped2.shape"
   ]
  },
  {
   "cell_type": "code",
   "execution_count": 46,
   "metadata": {},
   "outputs": [],
   "source": [
    "df1 = df_dropped.apply(lambda x: get_coef_features(x, ['posZ', 'velZ', 'posX', 'velX']), axis=1)\n",
    "df2 = df_dropped.apply(lambda x: get_min_max_avg(x, ['posY', 'posZ', 'velZ']), axis=1)\n",
    "df3 = df_dropped2.apply(lambda x: get_coef_features(x, [\"3dvel\", \"3dsq_vel\", \"e\"]), axis=1)\n"
   ]
  },
  {
   "cell_type": "code",
   "execution_count": 51,
   "metadata": {
    "collapsed": true
   },
   "outputs": [],
   "source": [
    "df_features = pd.concat([df1, df2, df3], axis=1)"
   ]
  },
  {
   "cell_type": "code",
   "execution_count": 52,
   "metadata": {},
   "outputs": [
    {
     "data": {
      "text/plain": [
       "((200, 44), (200, 20), (200, 9), (200, 15))"
      ]
     },
     "execution_count": 52,
     "metadata": {},
     "output_type": "execute_result"
    }
   ],
   "source": []
  },
  {
   "cell_type": "code",
   "execution_count": null,
   "metadata": {
    "collapsed": true
   },
   "outputs": [],
   "source": []
  }
 ],
 "metadata": {
  "kernelspec": {
   "display_name": "Python [conda root]",
   "language": "python",
   "name": "conda-root-py"
  },
  "language_info": {
   "codemirror_mode": {
    "name": "ipython",
    "version": 3
   },
   "file_extension": ".py",
   "mimetype": "text/x-python",
   "name": "python",
   "nbconvert_exporter": "python",
   "pygments_lexer": "ipython3",
   "version": "3.5.4"
  }
 },
 "nbformat": 4,
 "nbformat_minor": 2
}
