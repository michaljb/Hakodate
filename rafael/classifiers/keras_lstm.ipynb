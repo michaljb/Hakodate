{
 "cells": [
  {
   "cell_type": "code",
   "execution_count": null,
   "metadata": {
    "collapsed": true
   },
   "outputs": [],
   "source": [
    "%matplotlib inline"
   ]
  },
  {
   "cell_type": "code",
   "execution_count": 255,
   "metadata": {},
   "outputs": [],
   "source": [
    "# LSTM and CNN for sequence classification in the IMDB dataset\n",
    "\n",
    "import numpy as np\n",
    "import pandas as pd\n",
    "import os\n",
    "import sys\n",
    "\n",
    "from keras.datasets import imdb\n",
    "from keras.models import Sequential\n",
    "from keras.layers import Dense, Dropout\n",
    "from keras.layers import LSTM\n",
    "from keras.layers.convolutional import Conv1D\n",
    "from keras.layers.convolutional import MaxPooling1D\n",
    "from keras.layers.embeddings import Embedding\n",
    "from keras.preprocessing import sequence\n",
    "from keras import optimizers\n",
    "import xgboost\n",
    "import features_extraction\n",
    "import importlib\n",
    "features_extraction = importlib.reload(features_extraction)\n",
    "from xgboost import XGBClassifier\n",
    "import itertools\n",
    "from sklearn.model_selection import train_test_split,KFold\n",
    "from sklearn.ensemble import ExtraTreesClassifier,RandomForestClassifier,GradientBoostingClassifier\n",
    "from sklearn.metrics import classification_report, log_loss\n",
    "from sklearn.metrics import confusion_matrix\n",
    "from sklearn import preprocessing\n",
    "from sklearn import model_selection \n",
    "# fix random seed for reproducibility\n",
    "numpy.random.seed(7)\n"
   ]
  },
  {
   "cell_type": "code",
   "execution_count": 285,
   "metadata": {},
   "outputs": [
    {
     "name": "stdout",
     "output_type": "stream",
     "text": [
      "/home/bugabuga/hack/git/rafael/classifiers\r\n"
     ]
    }
   ],
   "source": [
    "import sys\n",
    "root =  \"/home/bugabuga/hack/git\"\n",
    "sys.path.insert(0, root)\n",
    "# import os\n",
    "# os.chdir(root)\n",
    "# import get_decreasing_data\n",
    "# df = get_decpwdreasing_data.get_decreasing_df(None)\n",
    "!pwd"
   ]
  },
  {
   "cell_type": "code",
   "execution_count": 257,
   "metadata": {
    "collapsed": true
   },
   "outputs": [],
   "source": [
    "# df.to_pickle(os.path.expanduser(\"~/hack/data/decreasing_data.p\"))"
   ]
  },
  {
   "cell_type": "code",
   "execution_count": 258,
   "metadata": {},
   "outputs": [
    {
     "data": {
      "text/html": [
       "<div>\n",
       "<style>\n",
       "    .dataframe thead tr:only-child th {\n",
       "        text-align: right;\n",
       "    }\n",
       "\n",
       "    .dataframe thead th {\n",
       "        text-align: left;\n",
       "    }\n",
       "\n",
       "    .dataframe tbody tr th {\n",
       "        vertical-align: top;\n",
       "    }\n",
       "</style>\n",
       "<table border=\"1\" class=\"dataframe\">\n",
       "  <thead>\n",
       "    <tr style=\"text-align: right;\">\n",
       "      <th></th>\n",
       "      <th>posX</th>\n",
       "      <th>posY</th>\n",
       "      <th>posZ</th>\n",
       "      <th>velX</th>\n",
       "      <th>velY</th>\n",
       "      <th>velZ</th>\n",
       "      <th>class</th>\n",
       "    </tr>\n",
       "  </thead>\n",
       "  <tbody>\n",
       "    <tr>\n",
       "      <th>1</th>\n",
       "      <td>[834.907832288, 1107.20354278, 1381.77279678, ...</td>\n",
       "      <td>[3.5280955550699997, 1.8188204949900002, 0.524...</td>\n",
       "      <td>[8076.75484631, 8075.48815853, 8065.34459174, ...</td>\n",
       "      <td>[550.590397994, 549.8443559140001, 553.2501705...</td>\n",
       "      <td>[0.646220001584, -2.74706134934, -2.1050146181...</td>\n",
       "      <td>[-1.18552315801, -5.95741751005, -12.404433416...</td>\n",
       "      <td>14</td>\n",
       "    </tr>\n",
       "    <tr>\n",
       "      <th>2</th>\n",
       "      <td>[0, 217.255563152, 436.462066491, 647.14079424...</td>\n",
       "      <td>[0, -2.3429267468400004, -2.3307745953400003, ...</td>\n",
       "      <td>[7804.59700371, 7796.36193989, 7774.98015624, ...</td>\n",
       "      <td>[438.284571945, 432.800214042, 428.233753084, ...</td>\n",
       "      <td>[-0.340086091219, 3.7640691841600002, 5.437413...</td>\n",
       "      <td>[-13.597956928099999, -19.737817660999998, -23...</td>\n",
       "      <td>21</td>\n",
       "    </tr>\n",
       "    <tr>\n",
       "      <th>3</th>\n",
       "      <td>[3378.51282212, 3593.79640812, 3802.05955668, ...</td>\n",
       "      <td>[4.50162900675, 1.1567393960899999, -3.4179981...</td>\n",
       "      <td>[18663.7080762, 18658.6674275, 18649.3245972, ...</td>\n",
       "      <td>[418.823720032, 422.404850152, 420.037047028, ...</td>\n",
       "      <td>[-2.67738188199, -3.48999138141, 0.80100161980...</td>\n",
       "      <td>[-5.27823493328, -7.491722379489999, -7.588743...</td>\n",
       "      <td>14</td>\n",
       "    </tr>\n",
       "    <tr>\n",
       "      <th>6</th>\n",
       "      <td>[0, 120.12500347299999, 240.19124697599997, 35...</td>\n",
       "      <td>[0, 2.5878185792, -2.49164922338, -1.351626179...</td>\n",
       "      <td>[1841.89589425, 1721.70532429, 1595.39894829, ...</td>\n",
       "      <td>[238.0167313, 236.39145691299998, 232.23905293...</td>\n",
       "      <td>[3.62398367384, -1.9372451940900002, 1.8596656...</td>\n",
       "      <td>[-247.322457505, -251.370729304, -251.89407525...</td>\n",
       "      <td>3</td>\n",
       "    </tr>\n",
       "    <tr>\n",
       "      <th>8</th>\n",
       "      <td>[0, 159.962582311, 321.827864744, 479.50818498...</td>\n",
       "      <td>[0, -1.5448295045700002, 2.3114140124, -3.8631...</td>\n",
       "      <td>[22755.0077447, 22730.722812, 22705.4872449, 2...</td>\n",
       "      <td>[322.90754832700003, 320.451017311, 325.864514...</td>\n",
       "      <td>[-2.11610096781, 2.9447404028, -1.62162975159,...</td>\n",
       "      <td>[-49.276934022, -49.8676433696, -55.0967237221...</td>\n",
       "      <td>16</td>\n",
       "    </tr>\n",
       "  </tbody>\n",
       "</table>\n",
       "</div>"
      ],
      "text/plain": [
       "                                                posX  \\\n",
       "1  [834.907832288, 1107.20354278, 1381.77279678, ...   \n",
       "2  [0, 217.255563152, 436.462066491, 647.14079424...   \n",
       "3  [3378.51282212, 3593.79640812, 3802.05955668, ...   \n",
       "6  [0, 120.12500347299999, 240.19124697599997, 35...   \n",
       "8  [0, 159.962582311, 321.827864744, 479.50818498...   \n",
       "\n",
       "                                                posY  \\\n",
       "1  [3.5280955550699997, 1.8188204949900002, 0.524...   \n",
       "2  [0, -2.3429267468400004, -2.3307745953400003, ...   \n",
       "3  [4.50162900675, 1.1567393960899999, -3.4179981...   \n",
       "6  [0, 2.5878185792, -2.49164922338, -1.351626179...   \n",
       "8  [0, -1.5448295045700002, 2.3114140124, -3.8631...   \n",
       "\n",
       "                                                posZ  \\\n",
       "1  [8076.75484631, 8075.48815853, 8065.34459174, ...   \n",
       "2  [7804.59700371, 7796.36193989, 7774.98015624, ...   \n",
       "3  [18663.7080762, 18658.6674275, 18649.3245972, ...   \n",
       "6  [1841.89589425, 1721.70532429, 1595.39894829, ...   \n",
       "8  [22755.0077447, 22730.722812, 22705.4872449, 2...   \n",
       "\n",
       "                                                velX  \\\n",
       "1  [550.590397994, 549.8443559140001, 553.2501705...   \n",
       "2  [438.284571945, 432.800214042, 428.233753084, ...   \n",
       "3  [418.823720032, 422.404850152, 420.037047028, ...   \n",
       "6  [238.0167313, 236.39145691299998, 232.23905293...   \n",
       "8  [322.90754832700003, 320.451017311, 325.864514...   \n",
       "\n",
       "                                                velY  \\\n",
       "1  [0.646220001584, -2.74706134934, -2.1050146181...   \n",
       "2  [-0.340086091219, 3.7640691841600002, 5.437413...   \n",
       "3  [-2.67738188199, -3.48999138141, 0.80100161980...   \n",
       "6  [3.62398367384, -1.9372451940900002, 1.8596656...   \n",
       "8  [-2.11610096781, 2.9447404028, -1.62162975159,...   \n",
       "\n",
       "                                                velZ  class  \n",
       "1  [-1.18552315801, -5.95741751005, -12.404433416...     14  \n",
       "2  [-13.597956928099999, -19.737817660999998, -23...     21  \n",
       "3  [-5.27823493328, -7.491722379489999, -7.588743...     14  \n",
       "6  [-247.322457505, -251.370729304, -251.89407525...      3  \n",
       "8  [-49.276934022, -49.8676433696, -55.0967237221...     16  "
      ]
     },
     "execution_count": 258,
     "metadata": {},
     "output_type": "execute_result"
    }
   ],
   "source": [
    "df = pd.read_pickle(os.path.expanduser(\"~/hack/data/decreasing_data.p\"))\n",
    "df.head()\n",
    "# df.iloc[0].posX"
   ]
  },
  {
   "cell_type": "code",
   "execution_count": 259,
   "metadata": {},
   "outputs": [
    {
     "name": "stdout",
     "output_type": "stream",
     "text": [
      "(17091, 7)\n",
      "(10379, 7)\n"
     ]
    }
   ],
   "source": [
    "# def pad_sampled_route(x):\n",
    "#     arr = np.array(x[:-1].tolist(), dtype=np.float64)\n",
    "#     padded = sequence.pad_sequences(arr, maxlen=30, padding='post', dtype='float64')\n",
    "#     return padded.T\n",
    "ts = 15\n",
    "print(df.shape)\n",
    "df_dropped = df[df.apply(lambda x: len(x[\"posX\"])>ts, axis=1)]\n",
    "print(df_dropped.shape)\n",
    "\n",
    "# df_rows = [df_features.iloc[i] for i in range(df_features.shape[0])]\n",
    "# X = padded_data = np.array(list(map(pad_sampled_route, df_rows)))\n",
    "# y = np.array(df_features['class'].tolist())\n"
   ]
  },
  {
   "cell_type": "code",
   "execution_count": 261,
   "metadata": {},
   "outputs": [],
   "source": [
    "df_features = features_extraction.create_features(df_dropped, 3)\n"
   ]
  },
  {
   "cell_type": "code",
   "execution_count": 269,
   "metadata": {},
   "outputs": [],
   "source": [
    "# df_features.iloc[1]"
   ]
  },
  {
   "cell_type": "code",
   "execution_count": 277,
   "metadata": {},
   "outputs": [],
   "source": [
    "X = df_features.values\n",
    "X = preprocessing.StandardScaler().fit_transform(X)\n",
    "\n",
    "y = df_dropped['class'].values\n",
    "\n",
    "X_train, X_test, y_train, y_test = model_selection.train_test_split(X, y, test_size=0.1, random_state=0)"
   ]
  },
  {
   "cell_type": "code",
   "execution_count": 278,
   "metadata": {},
   "outputs": [
    {
     "data": {
      "text/plain": [
       "array([ 1, 21, 21, ..., 24,  4, 16])"
      ]
     },
     "execution_count": 278,
     "metadata": {},
     "output_type": "execute_result"
    }
   ],
   "source": []
  },
  {
   "cell_type": "code",
   "execution_count": 282,
   "metadata": {},
   "outputs": [
    {
     "data": {
      "text/plain": [
       "XGBClassifier(base_score=0.5, colsample_bylevel=0.7, colsample_bytree=0.9,\n",
       "       gamma=0, learning_rate=0.2, max_delta_step=0, max_depth=3,\n",
       "       min_child_weight=1, missing=None, n_estimators=300, nthread=4,\n",
       "       objective='multi:softprob', reg_alpha=0, reg_lambda=1,\n",
       "       scale_pos_weight=1, seed=1234, silent=True, subsample=0.7)"
      ]
     },
     "execution_count": 282,
     "metadata": {},
     "output_type": "execute_result"
    }
   ],
   "source": [
    "\n",
    "clf = gbc = xgboost.XGBClassifier(objective='multi:softprob',\n",
    "                    learning_rate=0.2,\n",
    "                    subsample=0.7,\n",
    "                    colsample_bytree=0.9,\n",
    "                    colsample_bylevel=0.7,\n",
    "                    max_depth=2,\n",
    "                    nthread=4,\n",
    "                    n_estimators=200,\n",
    "                    seed=1234)\n",
    "gbc.fit(X_train,y_train)\n"
   ]
  },
  {
   "cell_type": "code",
   "execution_count": 283,
   "metadata": {},
   "outputs": [
    {
     "data": {
      "text/plain": [
       "(0.99967883524247936, 0.58959537572254339)"
      ]
     },
     "execution_count": 283,
     "metadata": {},
     "output_type": "execute_result"
    }
   ],
   "source": [
    "np.mean(clf.predict(X_train) == y_train), np.mean(clf.predict(X_test) == y_test)"
   ]
  },
  {
   "cell_type": "code",
   "execution_count": 240,
   "metadata": {},
   "outputs": [
    {
     "data": {
      "text/plain": [
       "123123"
      ]
     },
     "execution_count": 240,
     "metadata": {},
     "output_type": "execute_result"
    }
   ],
   "source": []
  },
  {
   "cell_type": "code",
   "execution_count": 228,
   "metadata": {},
   "outputs": [],
   "source": [
    "def to_one_hot(labels, labels_count):\n",
    "    result = np.zeros((labels.shape[0], labels_count), dtype=np.int32)\n",
    "    for i in range(labels.shape[0]):\n",
    "        result[i, labels[i]] = 1\n",
    "    return result\n"
   ]
  },
  {
   "cell_type": "code",
   "execution_count": 167,
   "metadata": {},
   "outputs": [],
   "source": [
    "y_test_hot, y_train_hot = to_one_hot(y_test, 26), to_one_hot(y_train, 26)"
   ]
  },
  {
   "cell_type": "code",
   "execution_count": 168,
   "metadata": {},
   "outputs": [],
   "source": []
  },
  {
   "cell_type": "markdown",
   "metadata": {},
   "source": [
    "### Dense"
   ]
  },
  {
   "cell_type": "code",
   "execution_count": 169,
   "metadata": {},
   "outputs": [],
   "source": [
    "model = Sequential()\n",
    "\n",
    "n_features = X_train.shape[1]\n",
    "hidden_lengths = [50, 50, 50]\n",
    "n_classes = 26\n",
    "model.add(Dense(hidden_lengths[0], input_shape=(n_features,), activation='relu'))\n",
    "model.add(Dropout(0.5))\n",
    "for hidden_size in hidden_lengths[1:]:\n",
    "    model.add(Dense(hidden_size, activation='relu'))\n",
    "    model.add(Dropout(0.5))\n",
    "model.add(Dense(n_classes, activation='softmax'))\n",
    "optimizer = optimizers.Adam(lr=0.005)\n",
    "model.compile(loss='categorical_crossentropy', optimizer=optimizer, metrics=['accuracy'])\n",
    "print(model.summary())\n"
   ]
  },
  {
   "cell_type": "code",
   "execution_count": null,
   "metadata": {
    "collapsed": true
   },
   "outputs": [],
   "source": [
    "model.fit(X_train, y_train_hot, epochs=200, batch_size=20)\n",
    "# Final evaluation of the model\n",
    "scores = model.evaluate(X_test, y_test_hot, verbose=2)\n",
    "print(\"Accuracy: %.2f%%\" % (scores[1]*100))"
   ]
  }
 ],
 "metadata": {
  "anaconda-cloud": {},
  "kernelspec": {
   "display_name": "Python [conda root]",
   "language": "python",
   "name": "conda-root-py"
  },
  "language_info": {
   "codemirror_mode": {
    "name": "ipython",
    "version": 3
   },
   "file_extension": ".py",
   "mimetype": "text/x-python",
   "name": "python",
   "nbconvert_exporter": "python",
   "pygments_lexer": "ipython3",
   "version": "3.5.4"
  }
 },
 "nbformat": 4,
 "nbformat_minor": 2
}
