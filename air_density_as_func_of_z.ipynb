{
 "cells": [
  {
   "cell_type": "code",
   "execution_count": 1,
   "metadata": {
    "collapsed": true
   },
   "outputs": [],
   "source": [
    "import get_decreasing_data\n",
    "import pandas as pd\n",
    "import numpy as np\n",
    "\n",
    "import matplotlib.pyplot as plt\n",
    "import seaborn as cnc\n",
    "\n",
    "%matplotlib inline"
   ]
  },
  {
   "cell_type": "code",
   "execution_count": 2,
   "metadata": {
    "collapsed": false
   },
   "outputs": [
    {
     "data": {
      "text/html": [
       "<div>\n",
       "<style>\n",
       "    .dataframe thead tr:only-child th {\n",
       "        text-align: right;\n",
       "    }\n",
       "\n",
       "    .dataframe thead th {\n",
       "        text-align: left;\n",
       "    }\n",
       "\n",
       "    .dataframe tbody tr th {\n",
       "        vertical-align: top;\n",
       "    }\n",
       "</style>\n",
       "<table border=\"1\" class=\"dataframe\">\n",
       "  <thead>\n",
       "    <tr style=\"text-align: right;\">\n",
       "      <th></th>\n",
       "      <th>0</th>\n",
       "      <th>1</th>\n",
       "      <th>2</th>\n",
       "      <th>3</th>\n",
       "      <th>4</th>\n",
       "      <th>5</th>\n",
       "      <th>6</th>\n",
       "      <th>7</th>\n",
       "    </tr>\n",
       "  </thead>\n",
       "  <tbody>\n",
       "    <tr>\n",
       "      <th>0</th>\n",
       "      <td>Subscript b</td>\n",
       "      <td>Height Above Sea Level (h)</td>\n",
       "      <td>Mass Density (  ρ  {\\displaystyle \\rho }  )</td>\n",
       "      <td>Standard Temperature (T') (K)</td>\n",
       "      <td>Temperature Lapse Rate (L)</td>\n",
       "      <td>NaN</td>\n",
       "      <td>NaN</td>\n",
       "      <td>NaN</td>\n",
       "    </tr>\n",
       "    <tr>\n",
       "      <th>1</th>\n",
       "      <td>(m)</td>\n",
       "      <td>(ft)</td>\n",
       "      <td>(kg/m3)</td>\n",
       "      <td>(slugs/ft3)</td>\n",
       "      <td>(K/m)</td>\n",
       "      <td>(K/ft)</td>\n",
       "      <td>NaN</td>\n",
       "      <td>NaN</td>\n",
       "    </tr>\n",
       "    <tr>\n",
       "      <th>2</th>\n",
       "      <td>0</td>\n",
       "      <td>0</td>\n",
       "      <td>0</td>\n",
       "      <td>1.2250</td>\n",
       "      <td>2.3768908 x 10−3</td>\n",
       "      <td>288.15</td>\n",
       "      <td>-0.0065</td>\n",
       "      <td>-0.001981</td>\n",
       "    </tr>\n",
       "    <tr>\n",
       "      <th>3</th>\n",
       "      <td>1</td>\n",
       "      <td>11 000</td>\n",
       "      <td>36089.24</td>\n",
       "      <td>0.36391</td>\n",
       "      <td>7.0611703 x 10−4</td>\n",
       "      <td>216.65</td>\n",
       "      <td>0.0000</td>\n",
       "      <td>0.000000</td>\n",
       "    </tr>\n",
       "    <tr>\n",
       "      <th>4</th>\n",
       "      <td>2</td>\n",
       "      <td>20 000</td>\n",
       "      <td>65616.79</td>\n",
       "      <td>0.08803</td>\n",
       "      <td>1.7081572 x 10−4</td>\n",
       "      <td>216.65</td>\n",
       "      <td>0.0010</td>\n",
       "      <td>0.000305</td>\n",
       "    </tr>\n",
       "    <tr>\n",
       "      <th>5</th>\n",
       "      <td>3</td>\n",
       "      <td>32 000</td>\n",
       "      <td>104986.87</td>\n",
       "      <td>0.01322</td>\n",
       "      <td>2.5660735 x 10−5</td>\n",
       "      <td>228.65</td>\n",
       "      <td>0.0028</td>\n",
       "      <td>0.000853</td>\n",
       "    </tr>\n",
       "    <tr>\n",
       "      <th>6</th>\n",
       "      <td>4</td>\n",
       "      <td>47 000</td>\n",
       "      <td>154199.48</td>\n",
       "      <td>0.00143</td>\n",
       "      <td>2.7698702 x 10−6</td>\n",
       "      <td>270.65</td>\n",
       "      <td>0.0000</td>\n",
       "      <td>0.000000</td>\n",
       "    </tr>\n",
       "    <tr>\n",
       "      <th>7</th>\n",
       "      <td>5</td>\n",
       "      <td>51 000</td>\n",
       "      <td>167322.83</td>\n",
       "      <td>0.00086</td>\n",
       "      <td>1.6717895 x 10−6</td>\n",
       "      <td>270.65</td>\n",
       "      <td>-0.0028</td>\n",
       "      <td>-0.000853</td>\n",
       "    </tr>\n",
       "    <tr>\n",
       "      <th>8</th>\n",
       "      <td>6</td>\n",
       "      <td>71 000</td>\n",
       "      <td>232939.63</td>\n",
       "      <td>0.000064</td>\n",
       "      <td>1.2458989 x 10−7</td>\n",
       "      <td>214.65</td>\n",
       "      <td>-0.0020</td>\n",
       "      <td>-0.000610</td>\n",
       "    </tr>\n",
       "  </tbody>\n",
       "</table>\n",
       "</div>"
      ],
      "text/plain": [
       "             0                           1  \\\n",
       "0  Subscript b  Height Above Sea Level (h)   \n",
       "1          (m)                        (ft)   \n",
       "2            0                           0   \n",
       "3            1                      11 000   \n",
       "4            2                      20 000   \n",
       "5            3                      32 000   \n",
       "6            4                      47 000   \n",
       "7            5                      51 000   \n",
       "8            6                      71 000   \n",
       "\n",
       "                                             2                              3  \\\n",
       "0  Mass Density (  ρ  {\\displaystyle \\rho }  )  Standard Temperature (T') (K)   \n",
       "1                                      (kg/m3)                    (slugs/ft3)   \n",
       "2                                            0                         1.2250   \n",
       "3                                     36089.24                        0.36391   \n",
       "4                                     65616.79                        0.08803   \n",
       "5                                    104986.87                        0.01322   \n",
       "6                                    154199.48                        0.00143   \n",
       "7                                    167322.83                        0.00086   \n",
       "8                                    232939.63                       0.000064   \n",
       "\n",
       "                            4       5       6         7  \n",
       "0  Temperature Lapse Rate (L)     NaN     NaN       NaN  \n",
       "1                       (K/m)  (K/ft)     NaN       NaN  \n",
       "2            2.3768908 x 10−3  288.15 -0.0065 -0.001981  \n",
       "3            7.0611703 x 10−4  216.65  0.0000  0.000000  \n",
       "4            1.7081572 x 10−4  216.65  0.0010  0.000305  \n",
       "5            2.5660735 x 10−5  228.65  0.0028  0.000853  \n",
       "6            2.7698702 x 10−6  270.65  0.0000  0.000000  \n",
       "7            1.6717895 x 10−6  270.65 -0.0028 -0.000853  \n",
       "8            1.2458989 x 10−7  214.65 -0.0020 -0.000610  "
      ]
     },
     "execution_count": 2,
     "metadata": {},
     "output_type": "execute_result"
    }
   ],
   "source": [
    "air_pressure = pd.read_html(\"https://en.wikipedia.org/wiki/Barometric_formula\")[2]\n",
    "air_pressure"
   ]
  },
  {
   "cell_type": "code",
   "execution_count": 3,
   "metadata": {
    "collapsed": true
   },
   "outputs": [],
   "source": [
    "x = np.array([int(i.replace(\" \", \"\")) for i in air_pressure[1].tolist()[2:]])\n",
    "y = np.array([float(i) for i in air_pressure[2].tolist()[2:]])"
   ]
  },
  {
   "cell_type": "code",
   "execution_count": 4,
   "metadata": {
    "collapsed": true
   },
   "outputs": [],
   "source": [
    "a, b = np.polyfit(x, y, deg=1)\n",
    "y_fit = a*x + b\n",
    "yy = np.array([y, y_fit]).T"
   ]
  },
  {
   "cell_type": "code",
   "execution_count": 6,
   "metadata": {
    "collapsed": false
   },
   "outputs": [
    {
     "data": {
      "text/plain": [
       "[<matplotlib.lines.Line2D at 0x7f0b139a2400>,\n",
       " <matplotlib.lines.Line2D at 0x7f0b139a2550>]"
      ]
     },
     "execution_count": 6,
     "metadata": {},
     "output_type": "execute_result"
    },
    {
     "data": {
      "image/png": "[encoded data removed]",
      "text/plain": [
       "<matplotlib.figure.Figure at 0x7f0b13a111d0>"
      ]
     },
     "metadata": {},
     "output_type": "display_data"
    }
   ],
   "source": [
    "plt.plot(x,yy)"
   ]
  },
  {
   "cell_type": "code",
   "execution_count": 7,
   "metadata": {
    "collapsed": false
   },
   "outputs": [
    {
     "data": {
      "text/plain": [
       "(3.2808398882380154, -0.0020101742005067553)"
      ]
     },
     "execution_count": 7,
     "metadata": {},
     "output_type": "execute_result"
    }
   ],
   "source": [
    "a, b"
   ]
  },
  {
   "cell_type": "code",
   "execution_count": null,
   "metadata": {
    "collapsed": true
   },
   "outputs": [],
   "source": []
  }
 ],
 "metadata": {
  "anaconda-cloud": {},
  "kernelspec": {
   "display_name": "auto-ml",
   "language": "python",
   "name": "auto-ml"
  },
  "language_info": {
   "codemirror_mode": {
    "name": "ipython",
    "version": 3
   },
   "file_extension": ".py",
   "mimetype": "text/x-python",
   "name": "python",
   "nbconvert_exporter": "python",
   "pygments_lexer": "ipython3",
   "version": "3.5.4"
  }
 },
 "nbformat": 4,
 "nbformat_minor": 1
}
