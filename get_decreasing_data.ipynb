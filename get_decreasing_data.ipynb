{
 "cells": [
  {
   "cell_type": "code",
   "execution_count": 1,
   "metadata": {
    "collapsed": true
   },
   "outputs": [],
   "source": [
    "import pandas as pd\n"
   ]
  },
  {
   "cell_type": "code",
   "execution_count": 2,
   "metadata": {
    "collapsed": false
   },
   "outputs": [],
   "source": [
    "# data = pd.read_csv(\"rafael/train_sample.csv\")"
   ]
  },
  {
   "cell_type": "code",
   "execution_count": 28,
   "metadata": {
    "collapsed": true
   },
   "outputs": [],
   "source": [
    "def read_train_data(sample=True):\n",
    "    if sample:\n",
    "        return pd.read_csv(\"rafael/train_sample.csv\")\n",
    "    else:\n",
    "        return pd.read_csv(\"rafael/train.csv\")"
   ]
  },
  {
   "cell_type": "code",
   "execution_count": 3,
   "metadata": {
    "collapsed": false
   },
   "outputs": [
    {
     "data": {
      "text/plain": [
       "Index(['Unnamed: 0', 'Time_0', 'posX_0', 'posY_0', 'posZ_0', 'velX_0',\n",
       "       'velY_0', 'velZ_0', 'Time_1', 'posX_1',\n",
       "       ...\n",
       "       'velZ_28', 'Time_29', 'posX_29', 'posY_29', 'posZ_29', 'velX_29',\n",
       "       'velY_29', 'velZ_29', 'targetName', 'class'],\n",
       "      dtype='object', length=213)"
      ]
     },
     "execution_count": 3,
     "metadata": {},
     "output_type": "execute_result"
    }
   ],
   "source": [
    "# cols = data.columns\n",
    "# cols"
   ]
  },
  {
   "cell_type": "code",
   "execution_count": 38,
   "metadata": {
    "collapsed": false
   },
   "outputs": [],
   "source": [
    "\n",
    "\n",
    "# posX = [col for col in cols if col.startswith(\"posX\")]\n",
    "# posY = [col for col in cols if col.startswith(\"posY\")]\n",
    "# posZ = [col for col in cols if col.startswith(\"posZ\")]\n",
    "\n",
    "# velX = [col for col in cols if col.startswith(\"velX\")]\n",
    "# velY = [col for col in cols if col.startswith(\"velY\")]\n",
    "# velZ = [col for col in cols if col.startswith(\"velZ\")]"
   ]
  },
  {
   "cell_type": "code",
   "execution_count": 33,
   "metadata": {
    "collapsed": false
   },
   "outputs": [],
   "source": [
    "# data[posZ]"
   ]
  },
  {
   "cell_type": "code",
   "execution_count": 34,
   "metadata": {
    "collapsed": false
   },
   "outputs": [],
   "source": [
    "# data[posZ].apply(lambda x: x.max()>x[x.notnull()[-1]], axis=1).sum()"
   ]
  },
  {
   "cell_type": "code",
   "execution_count": 66,
   "metadata": {
    "collapsed": false
   },
   "outputs": [],
   "source": [
    "def get_decreaase_indices(data):\n",
    "    columns = get_columns(\"posZ\", data.columns)\n",
    "    return data[columns].apply(lambda x: x.max()>x[x.notnull()][-1], axis=1)"
   ]
  },
  {
   "cell_type": "code",
   "execution_count": 40,
   "metadata": {
    "collapsed": false
   },
   "outputs": [],
   "source": []
  },
  {
   "cell_type": "code",
   "execution_count": 69,
   "metadata": {
    "collapsed": false
   },
   "outputs": [],
   "source": [
    "def read_train_data(sample=True):\n",
    "    if sample:\n",
    "        return pd.read_csv(\"rafael/train_sample.csv\")\n",
    "    else:\n",
    "        return pd.read_csv(\"rafael/train.csv\")\n",
    "\n",
    "all_data = read_train_data()\n",
    "\n",
    "def get_columns(prefix, data_columns):\n",
    "    return [col for col in data_columns if col.startswith(prefix)]\n",
    "\n",
    "posX, posY, posZ, velX, velY, velZ = [get_columns(column, all_data.columns) for column in \n",
    "                                      (\"posX\", \"posY\", \"posZ\", \"velX\", \"velY\", \"velZ\")]\n",
    "\n",
    "\n",
    "def get_decrease_indices(data):\n",
    "    return data[posZ].apply(lambda x: x.max()>x[x.notnull()][-1], axis=1)\n",
    "\n",
    "\n",
    "def max_z_column_index(data):\n",
    "    col_name_z_max = data[posZ].apply(lambda x: x.argmax(), axis=1)\n",
    "    max_column_index = col_name_z_max.apply(lambda x: int(x.split(\"_\")[-1]))\n",
    "    return max_column_index\n",
    "\n",
    "\n",
    "def indices_of_decreaing_z_rows(data):\n",
    "    decrease_indices = data[posZ].apply(lambda x: x.max()>x[x.notnull()][-1], axis=1)\n",
    "    return decrease_indices\n",
    "\n",
    "\n",
    "def get_last_nonnull_index(data):\n",
    "    return data.apply(lambda x: x.notnull().sum(), axis=1)\n",
    "\n",
    "\n",
    "def build_dataframe(data, first_index, last_index):\n",
    "    \"\"\"\n",
    "    arg data: might be all the data or subset of the data.\n",
    "    \"\"\"\n",
    "    data[\"start_decrease\"] = first_index\n",
    "    data[\"end_data\"] = last_index\n",
    "\n",
    "    data_frame = pd.concat(\n",
    "              [data.apply(lambda x: x.loc[posX][x.start_decrease:x.end_data].tolist(), axis=1), \n",
    "               data.apply(lambda x: x.loc[posY][x.start_decrease:x.end_data].tolist(), axis=1),\n",
    "               data.apply(lambda x: x.loc[posZ][x.start_decrease:x.end_data].tolist(), axis=1),\n",
    "               data.apply(lambda x: x.loc[velX][x.start_decrease:x.end_data].tolist(), axis=1),\n",
    "               data.apply(lambda x: x.loc[velY][x.start_decrease:x.end_data].tolist(), axis=1),\n",
    "               data.apply(lambda x: x.loc[velZ][x.start_decrease:x.end_data].tolist(), axis=1)], \n",
    "               axis=1)\n",
    "    data_frame.columns = [\"posX\", \"posY\", \"posZ\", \"velX\", \"velY\", \"velZ\"]\n",
    "    return data_frame"
   ]
  },
  {
   "cell_type": "code",
   "execution_count": 70,
   "metadata": {
    "collapsed": false
   },
   "outputs": [],
   "source": [
    "def get_decreasing_df(sample=True):\n",
    "    decrease_indices =  get_decrease_indices(read_train_data(sample))\n",
    "    data_z_decreasing = all_data[decrease_indices]\n",
    "    last_sample_index = get_last_nonnull_index(all_data[posZ])\n",
    "    first_decreasing_z_index = max_z_column_index(all_data)\n",
    "    data_frame = build_dataframe(data_z_decreasing, first_decreasing_z_index, last_sample_index)\n",
    "    return data_frame"
   ]
  },
  {
   "cell_type": "code",
   "execution_count": null,
   "metadata": {
    "collapsed": true
   },
   "outputs": [],
   "source": []
  }
 ],
 "metadata": {
  "anaconda-cloud": {},
  "kernelspec": {
   "display_name": "auto-ml",
   "language": "python",
   "name": "auto-ml"
  },
  "language_info": {
   "codemirror_mode": {
    "name": "ipython",
    "version": 3
   },
   "file_extension": ".py",
   "mimetype": "text/x-python",
   "name": "python",
   "nbconvert_exporter": "python",
   "pygments_lexer": "ipython3",
   "version": "3.5.4"
  }
 },
 "nbformat": 4,
 "nbformat_minor": 1
}
